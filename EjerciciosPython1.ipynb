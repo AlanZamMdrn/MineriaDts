{
 "cells": [
  {
   "cell_type": "markdown",
   "metadata": {},
   "source": [
    "Programa 1: Imprimir Matricula y Nombre"
   ]
  },
  {
   "cell_type": "code",
   "execution_count": 1,
   "metadata": {},
   "outputs": [
    {
     "name": "stdout",
     "output_type": "stream",
     "text": [
      "Alan 1625654\n"
     ]
    }
   ],
   "source": [
    "matricula= '1625654'\n",
    "nomb= \"Alan\"\n",
    "print(nomb,matricula)"
   ]
  },
  {
   "cell_type": "markdown",
   "metadata": {},
   "source": [
    "Programa 2: Calculadora con 2 inputs de numeros"
   ]
  },
  {
   "cell_type": "code",
   "execution_count": 2,
   "metadata": {},
   "outputs": [
    {
     "name": "stdout",
     "output_type": "stream",
     "text": [
      "Ingresa un numero  2\n",
      "Ingresa otro numero  2\n",
      "4 0 4 1.0 4\n"
     ]
    }
   ],
   "source": [
    "b=int(input(\"Ingresa un numero  \"))\n",
    "a=int(input(\"Ingresa otro numero  \"))\n",
    "suma=b+a\n",
    "rest=b-a\n",
    "mult=b*a\n",
    "div=b/a\n",
    "exp=b**a\n",
    "print(suma,rest,mult,div,exp)"
   ]
  },
  {
   "cell_type": "markdown",
   "metadata": {},
   "source": [
    "Programa 3: Realizar un ciclo el cual imprima una lista de 10 multiplos de 3 y despues se sumen todos"
   ]
  },
  {
   "cell_type": "code",
   "execution_count": 3,
   "metadata": {},
   "outputs": [
    {
     "data": {
      "text/plain": [
       "[0, 3, 6, 9, 12, 15, 18, 21, 24, 27, 30]"
      ]
     },
     "execution_count": 3,
     "metadata": {},
     "output_type": "execute_result"
    }
   ],
   "source": [
    "mult3=[]\n",
    "for i in range (0,11):\n",
    "    mult3.append(i*3)\n",
    "mult3"
   ]
  },
  {
   "cell_type": "code",
   "execution_count": 4,
   "metadata": {},
   "outputs": [
    {
     "data": {
      "text/plain": [
       "165"
      ]
     },
     "execution_count": 4,
     "metadata": {},
     "output_type": "execute_result"
    }
   ],
   "source": [
    "total=0\n",
    "for i in range (0,11):\n",
    "    total=total+mult3[i]\n",
    "total"
   ]
  },
  {
   "cell_type": "markdown",
   "metadata": {},
   "source": [
    "Programa 4: Realizar un If Else para checar si un numero es par o impar"
   ]
  },
  {
   "cell_type": "code",
   "execution_count": 5,
   "metadata": {},
   "outputs": [
    {
     "name": "stdout",
     "output_type": "stream",
     "text": [
      "Ingresa un numero  2\n",
      "Numero es par\n"
     ]
    }
   ],
   "source": [
    "num=int(input(\"Ingresa un numero  \"))\n",
    "if (num % 2 ==0):\n",
    "    print(\"Numero es par\")\n",
    "else:\n",
    "    print(\"Numero es impar\")"
   ]
  },
  {
   "cell_type": "markdown",
   "metadata": {},
   "source": [
    "Programa 5: Utilizando clases realizar una calculadora"
   ]
  },
  {
   "cell_type": "code",
   "execution_count": 6,
   "metadata": {},
   "outputs": [
    {
     "name": "stdout",
     "output_type": "stream",
     "text": [
      "Ingresa un numero  2\n",
      "Ingresa otro numero  2\n",
      "Suma=  4\n",
      "Resta=  0\n",
      "Multiplicacion=  4\n",
      "Division=  1.0\n",
      "Exponente=  4\n"
     ]
    }
   ],
   "source": [
    "def Suma(a,b):\n",
    "    res=a+b\n",
    "    return(res)\n",
    "def Resta(a,b):\n",
    "    res=a-b\n",
    "    return(res)\n",
    "def Multiplicacion(a,b):\n",
    "    res=a*b\n",
    "    return(res)\n",
    "def Division(a,b):\n",
    "    res=a/b\n",
    "    return(res)\n",
    "def Exponente(a,b):\n",
    "    res=a**b\n",
    "    return(res)\n",
    "a=int(input(\"Ingresa un numero  \"))\n",
    "b=int(input(\"Ingresa otro numero  \"))\n",
    "print(\"Suma= \",Suma(a,b))\n",
    "print(\"Resta= \",Resta(a,b))\n",
    "print(\"Multiplicacion= \",Multiplicacion(a,b))\n",
    "print(\"Division= \",Division(a,b))\n",
    "print(\"Exponente= \",Exponente(a,b))"
   ]
  },
  {
   "cell_type": "markdown",
   "metadata": {},
   "source": [
    "Ejercicios Tuplas:\n",
    "1: Crear una variable flotante, integer, boleana y compleja e imprimir el tipo de variable que es"
   ]
  },
  {
   "cell_type": "code",
   "execution_count": 7,
   "metadata": {},
   "outputs": [
    {
     "name": "stdout",
     "output_type": "stream",
     "text": [
      "1.2 es de tipo <class 'float'>\n",
      "2 es de tipo <class 'int'>\n",
      "True es de tipo <class 'bool'>\n",
      "(2+1j) es de tipo <class 'complex'>\n"
     ]
    }
   ],
   "source": [
    "a=1.2\n",
    "b=2\n",
    "c=True\n",
    "d= 1j+2\n",
    "print(a, \"es de tipo\", type(a))\n",
    "print(b, \"es de tipo\", type(b))\n",
    "print(c, \"es de tipo\", type(c))\n",
    "print(d, \"es de tipo\", type(d))"
   ]
  },
  {
   "cell_type": "markdown",
   "metadata": {},
   "source": [
    "2: Crear una tupla con valores enteros imprimir el primer y ultimo valor."
   ]
  },
  {
   "cell_type": "code",
   "execution_count": 8,
   "metadata": {},
   "outputs": [
    {
     "name": "stdout",
     "output_type": "stream",
     "text": [
      "0 5\n"
     ]
    }
   ],
   "source": [
    "t1 = (0,1,2,3,4,5)\n",
    "print(t1[0],t1[5])"
   ]
  },
  {
   "cell_type": "markdown",
   "metadata": {},
   "source": [
    "3: Añadir 3 valores de string a la tupla."
   ]
  },
  {
   "cell_type": "code",
   "execution_count": 9,
   "metadata": {},
   "outputs": [
    {
     "data": {
      "text/plain": [
       "(0, 1, 2, 3, 4, 5, 'abc', 'def')"
      ]
     },
     "execution_count": 9,
     "metadata": {},
     "output_type": "execute_result"
    }
   ],
   "source": [
    "t1 = t1.__add__(('abc','def',))\n",
    "t1"
   ]
  },
  {
   "cell_type": "markdown",
   "metadata": {},
   "source": [
    "4: Verificar si una variable existe dentro de la tupla."
   ]
  },
  {
   "cell_type": "code",
   "execution_count": 10,
   "metadata": {},
   "outputs": [
    {
     "name": "stdout",
     "output_type": "stream",
     "text": [
      "0 es de tipo  <class 'int'>\n",
      "1 es de tipo  <class 'int'>\n",
      "2 es de tipo  <class 'int'>\n",
      "3 es de tipo  <class 'int'>\n",
      "4 es de tipo  <class 'int'>\n",
      "5 es de tipo  <class 'int'>\n",
      "abc es de tipo  <class 'str'>\n",
      "def es de tipo  <class 'str'>\n"
     ]
    }
   ],
   "source": [
    "for i in range(0,8):\n",
    "    print(t1[i],\"es de tipo \",type(t1[i]))"
   ]
  },
  {
   "cell_type": "markdown",
   "metadata": {},
   "source": [
    "Ejercicios Listas: 1:Crear una lista con 40 elementos aleatorios enteros."
   ]
  },
  {
   "cell_type": "code",
   "execution_count": 11,
   "metadata": {},
   "outputs": [
    {
     "data": {
      "text/plain": [
       "[20,\n",
       " 34,\n",
       " 32,\n",
       " 7,\n",
       " 32,\n",
       " 19,\n",
       " 21,\n",
       " 29,\n",
       " 18,\n",
       " 1,\n",
       " 22,\n",
       " 6,\n",
       " 34,\n",
       " 13,\n",
       " 31,\n",
       " 37,\n",
       " 10,\n",
       " 13,\n",
       " 18,\n",
       " 29,\n",
       " 22,\n",
       " 21,\n",
       " 8,\n",
       " 37,\n",
       " 27,\n",
       " 22,\n",
       " 12,\n",
       " 8,\n",
       " 24,\n",
       " 23,\n",
       " 25,\n",
       " 29,\n",
       " 38,\n",
       " 39,\n",
       " 16,\n",
       " 26,\n",
       " 29,\n",
       " 1,\n",
       " 1,\n",
       " 32,\n",
       " 1]"
      ]
     },
     "execution_count": 11,
     "metadata": {},
     "output_type": "execute_result"
    }
   ],
   "source": [
    "import numpy as np\n",
    "l1=[]\n",
    "for i in range(0,41):\n",
    "    l1.append(np.random.randint(0,40))\n",
    "l1"
   ]
  },
  {
   "cell_type": "markdown",
   "metadata": {},
   "source": [
    "2:Con una funcion (def) crear dos listas nuevas a partir de la lista creada por numeros aleatorios, en la cual en una esten los elementos pares, y en la otra los elementos impares."
   ]
  },
  {
   "cell_type": "code",
   "execution_count": 12,
   "metadata": {},
   "outputs": [
    {
     "name": "stdout",
     "output_type": "stream",
     "text": [
      "Lista Pares:  [20, 34, 32, 32, 18, 22, 6, 34, 10, 18, 22, 8, 22, 12, 8, 24, 38, 16, 26, 32]\n",
      "Lista Impares:  [7, 19, 21, 29, 1, 13, 31, 37, 13, 29, 21, 37, 27, 23, 25, 29, 39, 29, 1, 1, 1]\n"
     ]
    }
   ],
   "source": [
    "def Lista1(l1):\n",
    "    l2=[]\n",
    "    for i in range (0,41):\n",
    "        if (l1[i] % 2 == 0):\n",
    "            l2.append(l1[i])\n",
    "    return (l2)\n",
    "def Lista2(l1):\n",
    "    l3=[]\n",
    "    for i in range (0,41):\n",
    "        if (l1[i] % 2 != 0):\n",
    "            l3.append(l1[i])\n",
    "    return(l3)\n",
    "print(\"Lista Pares: \",Lista1(l1))\n",
    "print(\"Lista Impares: \",Lista2(l1))"
   ]
  },
  {
   "cell_type": "markdown",
   "metadata": {},
   "source": [
    "3:Crear dos variables con la longitud de ambas listas nuevas e imprimir las variables."
   ]
  },
  {
   "cell_type": "code",
   "execution_count": 13,
   "metadata": {},
   "outputs": [
    {
     "name": "stdout",
     "output_type": "stream",
     "text": [
      "20 21\n"
     ]
    }
   ],
   "source": [
    "a=len(Lista1(l1))\n",
    "b=len(Lista2(l1))\n",
    "print(a,b)"
   ]
  },
  {
   "cell_type": "markdown",
   "metadata": {},
   "source": [
    "4: Ordenar los elementos de la lista par de mayor a menor, y los de la lista impar de menor a mayor."
   ]
  },
  {
   "cell_type": "code",
   "execution_count": 14,
   "metadata": {},
   "outputs": [
    {
     "name": "stdout",
     "output_type": "stream",
     "text": [
      "Lista Pares:  [38, 34, 34, 32, 32, 32, 26, 24, 22, 22, 22, 20, 18, 18, 16, 12, 10, 8, 8, 6]\n",
      "Lista Impares:  [1, 1, 1, 1, 7, 13, 13, 19, 21, 21, 23, 25, 27, 29, 29, 29, 29, 31, 37, 37, 39]\n"
     ]
    }
   ],
   "source": [
    "par=Lista1(l1)\n",
    "impar=Lista2(l1)\n",
    "par.sort(reverse=True)\n",
    "impar.sort()\n",
    "print(\"Lista Pares: \",par)\n",
    "print(\"Lista Impares: \",impar)"
   ]
  },
  {
   "cell_type": "markdown",
   "metadata": {},
   "source": [
    "5: Utilizar al menos cuatro de las funciones de listas en python en la lista original de 40 elementos."
   ]
  },
  {
   "cell_type": "code",
   "execution_count": 15,
   "metadata": {},
   "outputs": [
    {
     "name": "stdout",
     "output_type": "stream",
     "text": [
      "Antes:  [20, 34, 32, 7, 32, 19, 21, 29, 18, 1, 22, 6, 34, 13, 31, 37, 10, 13, 18, 29, 22, 21, 8, 37, 27, 22, 12, 8, 24, 23, 25, 29, 38, 39, 16, 26, 29, 1, 1, 32, 1]\n",
      "Despues:  [1, 32, 5, 1, 29, 26, 16, 39, 38, 29, 25, 23, 24, 8, 12, 22, 27, 37, 8, 21, 22, 29, 18, 13, 10, 37, 31, 13, 34, 6, 22, 1, 18, 29, 21, 19, 32, 7, 32, 34, 20, 67]\n"
     ]
    }
   ],
   "source": [
    "print(\"Antes: \",l1)\n",
    "l1.reverse()\n",
    "l1.pop(2)\n",
    "l1.insert(2,5)\n",
    "l1.append(67)\n",
    "print(\"Despues: \",l1)"
   ]
  },
  {
   "cell_type": "markdown",
   "metadata": {},
   "source": [
    "Ejercicios Diccionarios: 1: Crear un diccionario de 6 personas que conozcas con su primer nombre y su edad."
   ]
  },
  {
   "cell_type": "code",
   "execution_count": 16,
   "metadata": {},
   "outputs": [
    {
     "data": {
      "text/plain": [
       "{'Samir': 31,\n",
       " 'Karla': 22,\n",
       " 'Rodolfo': 21,\n",
       " 'Angel': 22,\n",
       " 'Jonathan': 23,\n",
       " 'Daniel': 26}"
      ]
     },
     "execution_count": 16,
     "metadata": {},
     "output_type": "execute_result"
    }
   ],
   "source": [
    "dir= {'Samir':31,'Karla':22,'Rodolfo':21,'Angel':22,'Jonathan':23,'Daniel':26}\n",
    "dir"
   ]
  },
  {
   "cell_type": "markdown",
   "metadata": {},
   "source": [
    "2: Crear una lista con los valores de la edad y reacomodar la lista de menor a mayor valor"
   ]
  },
  {
   "cell_type": "code",
   "execution_count": 17,
   "metadata": {},
   "outputs": [
    {
     "data": {
      "text/plain": [
       "[21, 22, 22, 23, 26, 31]"
      ]
     },
     "execution_count": 17,
     "metadata": {},
     "output_type": "execute_result"
    }
   ],
   "source": [
    "lis=[31,22,21,22,23,26]\n",
    "lis.sort()\n",
    "lis"
   ]
  },
  {
   "cell_type": "markdown",
   "metadata": {},
   "source": [
    "3: Usando el diccionario y un loop, imprimir solo los nombres"
   ]
  },
  {
   "cell_type": "code",
   "execution_count": 18,
   "metadata": {},
   "outputs": [
    {
     "name": "stdout",
     "output_type": "stream",
     "text": [
      "Samir\n",
      "Karla\n",
      "Rodolfo\n",
      "Angel\n",
      "Jonathan\n",
      "Daniel\n"
     ]
    }
   ],
   "source": [
    "for i in dir:\n",
    "    print(i)"
   ]
  },
  {
   "cell_type": "markdown",
   "metadata": {},
   "source": [
    "4: Añadir dos personas nuevas a tu diccionario, incluyendo edad."
   ]
  },
  {
   "cell_type": "code",
   "execution_count": 19,
   "metadata": {},
   "outputs": [
    {
     "data": {
      "text/plain": [
       "{'Samir': 31,\n",
       " 'Karla': 22,\n",
       " 'Rodolfo': 21,\n",
       " 'Angel': 22,\n",
       " 'Jonathan': 23,\n",
       " 'Daniel': 26,\n",
       " 'Jose': 19,\n",
       " 'Julian': 24}"
      ]
     },
     "execution_count": 19,
     "metadata": {},
     "output_type": "execute_result"
    }
   ],
   "source": [
    "dir ['Jose'] = 19\n",
    "dir ['Julian'] = 24\n",
    "dir"
   ]
  },
  {
   "cell_type": "markdown",
   "metadata": {},
   "source": [
    "Ejercicios Sets: 1: Crea un set con 100 numeros aleatorios enteros del 1 al 25"
   ]
  },
  {
   "cell_type": "code",
   "execution_count": 20,
   "metadata": {},
   "outputs": [
    {
     "data": {
      "text/plain": [
       "{0,\n",
       " 1,\n",
       " 2,\n",
       " 3,\n",
       " 4,\n",
       " 5,\n",
       " 6,\n",
       " 7,\n",
       " 8,\n",
       " 9,\n",
       " 10,\n",
       " 11,\n",
       " 12,\n",
       " 13,\n",
       " 14,\n",
       " 15,\n",
       " 16,\n",
       " 17,\n",
       " 18,\n",
       " 19,\n",
       " 20,\n",
       " 21,\n",
       " 22,\n",
       " 23,\n",
       " 24,\n",
       " 25}"
      ]
     },
     "execution_count": 20,
     "metadata": {},
     "output_type": "execute_result"
    }
   ],
   "source": [
    "f = set()\n",
    "for i in range (0,101):\n",
    "    f.add(np.random.randint(0,26))\n",
    "f"
   ]
  },
  {
   "cell_type": "markdown",
   "metadata": {},
   "source": [
    "2: Comprueba la longitud de tu set"
   ]
  },
  {
   "cell_type": "code",
   "execution_count": 21,
   "metadata": {},
   "outputs": [
    {
     "data": {
      "text/plain": [
       "26"
      ]
     },
     "execution_count": 21,
     "metadata": {},
     "output_type": "execute_result"
    }
   ],
   "source": [
    "len(f)"
   ]
  },
  {
   "cell_type": "markdown",
   "metadata": {},
   "source": [
    "3: Crea una lista de 5 numeros aleatorios del 1 al 10 y comprueba si cada valor aparece en el set inicial."
   ]
  },
  {
   "cell_type": "code",
   "execution_count": 22,
   "metadata": {},
   "outputs": [
    {
     "name": "stdout",
     "output_type": "stream",
     "text": [
      "Elemento  5  se encuentra en el set\n",
      "Elemento  7  se encuentra en el set\n",
      "Elemento  1  se encuentra en el set\n",
      "Elemento  6  se encuentra en el set\n",
      "Elemento  2  se encuentra en el set\n",
      "Elemento  7  se encuentra en el set\n"
     ]
    }
   ],
   "source": [
    "lis5 = []\n",
    "for i in range (0,6):\n",
    "    lis5.append(np.random.randint(0,10))\n",
    "    if (lis5[i] in f):\n",
    "        print(\"Elemento \",lis5[i], \" se encuentra en el set\")"
   ]
  },
  {
   "cell_type": "code",
   "execution_count": null,
   "metadata": {},
   "outputs": [],
   "source": []
  }
 ],
 "metadata": {
  "kernelspec": {
   "display_name": "Python 3",
   "language": "python",
   "name": "python3"
  },
  "language_info": {
   "codemirror_mode": {
    "name": "ipython",
    "version": 3
   },
   "file_extension": ".py",
   "mimetype": "text/x-python",
   "name": "python",
   "nbconvert_exporter": "python",
   "pygments_lexer": "ipython3",
   "version": "3.8.3"
  }
 },
 "nbformat": 4,
 "nbformat_minor": 4
}
